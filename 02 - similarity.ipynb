{
 "cells": [
  {
   "cell_type": "code",
   "execution_count": 115,
   "id": "5e2e9b32-6f85-4f0b-a2df-5dae0f208564",
   "metadata": {},
   "outputs": [],
   "source": [
    "import pandas as pd\n",
    "import numpy as np\n",
    "from scipy.spatial import distance\n",
    "import matplotlib.pyplot as plt"
   ]
  },
  {
   "cell_type": "code",
   "execution_count": 2,
   "id": "358bbfbd-36d4-4a58-9707-3e28ca4af324",
   "metadata": {},
   "outputs": [
    {
     "data": {
      "text/html": [
       "<div>\n",
       "<style scoped>\n",
       "    .dataframe tbody tr th:only-of-type {\n",
       "        vertical-align: middle;\n",
       "    }\n",
       "\n",
       "    .dataframe tbody tr th {\n",
       "        vertical-align: top;\n",
       "    }\n",
       "\n",
       "    .dataframe thead th {\n",
       "        text-align: right;\n",
       "    }\n",
       "</style>\n",
       "<table border=\"1\" class=\"dataframe\">\n",
       "  <thead>\n",
       "    <tr style=\"text-align: right;\">\n",
       "      <th></th>\n",
       "      <th>color_white-wine</th>\n",
       "      <th>color_yellow</th>\n",
       "      <th>color_very-pale</th>\n",
       "      <th>color_pale</th>\n",
       "      <th>color_pale-gold</th>\n",
       "      <th>color_gold</th>\n",
       "      <th>color_old-gold</th>\n",
       "      <th>color_full-gold</th>\n",
       "      <th>color_bronze</th>\n",
       "      <th>color_pale-amber</th>\n",
       "      <th>...</th>\n",
       "      <th>finish_oily</th>\n",
       "      <th>finish_salty</th>\n",
       "      <th>finish_aromatic</th>\n",
       "      <th>finish_quick</th>\n",
       "      <th>finish_long</th>\n",
       "      <th>finish_very-long</th>\n",
       "      <th>finish_lingering</th>\n",
       "      <th>coord_x</th>\n",
       "      <th>coord_y</th>\n",
       "      <th>region</th>\n",
       "    </tr>\n",
       "    <tr>\n",
       "      <th>name</th>\n",
       "      <th></th>\n",
       "      <th></th>\n",
       "      <th></th>\n",
       "      <th></th>\n",
       "      <th></th>\n",
       "      <th></th>\n",
       "      <th></th>\n",
       "      <th></th>\n",
       "      <th></th>\n",
       "      <th></th>\n",
       "      <th></th>\n",
       "      <th></th>\n",
       "      <th></th>\n",
       "      <th></th>\n",
       "      <th></th>\n",
       "      <th></th>\n",
       "      <th></th>\n",
       "      <th></th>\n",
       "      <th></th>\n",
       "      <th></th>\n",
       "      <th></th>\n",
       "    </tr>\n",
       "  </thead>\n",
       "  <tbody>\n",
       "    <tr>\n",
       "      <th>Aberfeldy</th>\n",
       "      <td>0</td>\n",
       "      <td>1</td>\n",
       "      <td>0</td>\n",
       "      <td>0</td>\n",
       "      <td>0</td>\n",
       "      <td>0</td>\n",
       "      <td>0</td>\n",
       "      <td>0</td>\n",
       "      <td>0</td>\n",
       "      <td>0</td>\n",
       "      <td>...</td>\n",
       "      <td>0</td>\n",
       "      <td>0</td>\n",
       "      <td>0</td>\n",
       "      <td>0</td>\n",
       "      <td>0</td>\n",
       "      <td>0</td>\n",
       "      <td>0</td>\n",
       "      <td>3.875</td>\n",
       "      <td>3.875</td>\n",
       "      <td>Highlands</td>\n",
       "    </tr>\n",
       "    <tr>\n",
       "      <th>Aberlour</th>\n",
       "      <td>0</td>\n",
       "      <td>0</td>\n",
       "      <td>0</td>\n",
       "      <td>0</td>\n",
       "      <td>0</td>\n",
       "      <td>0</td>\n",
       "      <td>0</td>\n",
       "      <td>0</td>\n",
       "      <td>0</td>\n",
       "      <td>0</td>\n",
       "      <td>...</td>\n",
       "      <td>0</td>\n",
       "      <td>0</td>\n",
       "      <td>0</td>\n",
       "      <td>1</td>\n",
       "      <td>0</td>\n",
       "      <td>0</td>\n",
       "      <td>0</td>\n",
       "      <td>3.220</td>\n",
       "      <td>3.220</td>\n",
       "      <td>Highlands</td>\n",
       "    </tr>\n",
       "    <tr>\n",
       "      <th>Ardberg</th>\n",
       "      <td>0</td>\n",
       "      <td>0</td>\n",
       "      <td>0</td>\n",
       "      <td>0</td>\n",
       "      <td>0</td>\n",
       "      <td>0</td>\n",
       "      <td>0</td>\n",
       "      <td>0</td>\n",
       "      <td>0</td>\n",
       "      <td>0</td>\n",
       "      <td>...</td>\n",
       "      <td>0</td>\n",
       "      <td>1</td>\n",
       "      <td>0</td>\n",
       "      <td>0</td>\n",
       "      <td>0</td>\n",
       "      <td>0</td>\n",
       "      <td>0</td>\n",
       "      <td>6.080</td>\n",
       "      <td>6.080</td>\n",
       "      <td>Islay</td>\n",
       "    </tr>\n",
       "    <tr>\n",
       "      <th>Ardmore</th>\n",
       "      <td>0</td>\n",
       "      <td>0</td>\n",
       "      <td>0</td>\n",
       "      <td>0</td>\n",
       "      <td>1</td>\n",
       "      <td>0</td>\n",
       "      <td>0</td>\n",
       "      <td>0</td>\n",
       "      <td>0</td>\n",
       "      <td>0</td>\n",
       "      <td>...</td>\n",
       "      <td>0</td>\n",
       "      <td>0</td>\n",
       "      <td>0</td>\n",
       "      <td>0</td>\n",
       "      <td>0</td>\n",
       "      <td>0</td>\n",
       "      <td>0</td>\n",
       "      <td>2.670</td>\n",
       "      <td>2.670</td>\n",
       "      <td>Highlands</td>\n",
       "    </tr>\n",
       "    <tr>\n",
       "      <th>Auchentoshan</th>\n",
       "      <td>0</td>\n",
       "      <td>0</td>\n",
       "      <td>0</td>\n",
       "      <td>0</td>\n",
       "      <td>1</td>\n",
       "      <td>0</td>\n",
       "      <td>0</td>\n",
       "      <td>0</td>\n",
       "      <td>0</td>\n",
       "      <td>0</td>\n",
       "      <td>...</td>\n",
       "      <td>0</td>\n",
       "      <td>0</td>\n",
       "      <td>0</td>\n",
       "      <td>0</td>\n",
       "      <td>0</td>\n",
       "      <td>0</td>\n",
       "      <td>0</td>\n",
       "      <td>4.390</td>\n",
       "      <td>4.390</td>\n",
       "      <td>Lowlands</td>\n",
       "    </tr>\n",
       "  </tbody>\n",
       "</table>\n",
       "<p>5 rows × 71 columns</p>\n",
       "</div>"
      ],
      "text/plain": [
       "              color_white-wine  color_yellow  color_very-pale  color_pale  \\\n",
       "name                                                                        \n",
       "Aberfeldy                    0             1                0           0   \n",
       "Aberlour                     0             0                0           0   \n",
       "Ardberg                      0             0                0           0   \n",
       "Ardmore                      0             0                0           0   \n",
       "Auchentoshan                 0             0                0           0   \n",
       "\n",
       "              color_pale-gold  color_gold  color_old-gold  color_full-gold  \\\n",
       "name                                                                         \n",
       "Aberfeldy                   0           0               0                0   \n",
       "Aberlour                    0           0               0                0   \n",
       "Ardberg                     0           0               0                0   \n",
       "Ardmore                     1           0               0                0   \n",
       "Auchentoshan                1           0               0                0   \n",
       "\n",
       "              color_bronze  color_pale-amber  ...  finish_oily  finish_salty  \\\n",
       "name                                          ...                              \n",
       "Aberfeldy                0                 0  ...            0             0   \n",
       "Aberlour                 0                 0  ...            0             0   \n",
       "Ardberg                  0                 0  ...            0             1   \n",
       "Ardmore                  0                 0  ...            0             0   \n",
       "Auchentoshan             0                 0  ...            0             0   \n",
       "\n",
       "              finish_aromatic  finish_quick  finish_long  finish_very-long  \\\n",
       "name                                                                         \n",
       "Aberfeldy                   0             0            0                 0   \n",
       "Aberlour                    0             1            0                 0   \n",
       "Ardberg                     0             0            0                 0   \n",
       "Ardmore                     0             0            0                 0   \n",
       "Auchentoshan                0             0            0                 0   \n",
       "\n",
       "              finish_lingering  coord_x  coord_y     region  \n",
       "name                                                         \n",
       "Aberfeldy                    0    3.875    3.875  Highlands  \n",
       "Aberlour                     0    3.220    3.220  Highlands  \n",
       "Ardberg                      0    6.080    6.080      Islay  \n",
       "Ardmore                      0    2.670    2.670  Highlands  \n",
       "Auchentoshan                 0    4.390    4.390   Lowlands  \n",
       "\n",
       "[5 rows x 71 columns]"
      ]
     },
     "execution_count": 2,
     "metadata": {},
     "output_type": "execute_result"
    }
   ],
   "source": [
    "df = pd.read_pickle(\"data/data.pickle\")\n",
    "df.head()"
   ]
  },
  {
   "cell_type": "code",
   "execution_count": 3,
   "id": "dbd74614-d16e-4999-b836-24e55ab25f99",
   "metadata": {},
   "outputs": [
    {
     "data": {
      "text/html": [
       "<div>\n",
       "<style scoped>\n",
       "    .dataframe tbody tr th:only-of-type {\n",
       "        vertical-align: middle;\n",
       "    }\n",
       "\n",
       "    .dataframe tbody tr th {\n",
       "        vertical-align: top;\n",
       "    }\n",
       "\n",
       "    .dataframe thead th {\n",
       "        text-align: right;\n",
       "    }\n",
       "</style>\n",
       "<table border=\"1\" class=\"dataframe\">\n",
       "  <thead>\n",
       "    <tr style=\"text-align: right;\">\n",
       "      <th></th>\n",
       "      <th>color_white-wine</th>\n",
       "      <th>color_yellow</th>\n",
       "      <th>color_very-pale</th>\n",
       "      <th>color_pale</th>\n",
       "      <th>color_pale-gold</th>\n",
       "      <th>color_gold</th>\n",
       "      <th>color_old-gold</th>\n",
       "      <th>color_full-gold</th>\n",
       "      <th>color_bronze</th>\n",
       "      <th>color_pale-amber</th>\n",
       "      <th>...</th>\n",
       "      <th>finish_smoky</th>\n",
       "      <th>finish_sweet</th>\n",
       "      <th>finish_spicy</th>\n",
       "      <th>finish_oily</th>\n",
       "      <th>finish_salty</th>\n",
       "      <th>finish_aromatic</th>\n",
       "      <th>finish_quick</th>\n",
       "      <th>finish_long</th>\n",
       "      <th>finish_very-long</th>\n",
       "      <th>finish_lingering</th>\n",
       "    </tr>\n",
       "    <tr>\n",
       "      <th>name</th>\n",
       "      <th></th>\n",
       "      <th></th>\n",
       "      <th></th>\n",
       "      <th></th>\n",
       "      <th></th>\n",
       "      <th></th>\n",
       "      <th></th>\n",
       "      <th></th>\n",
       "      <th></th>\n",
       "      <th></th>\n",
       "      <th></th>\n",
       "      <th></th>\n",
       "      <th></th>\n",
       "      <th></th>\n",
       "      <th></th>\n",
       "      <th></th>\n",
       "      <th></th>\n",
       "      <th></th>\n",
       "      <th></th>\n",
       "      <th></th>\n",
       "      <th></th>\n",
       "    </tr>\n",
       "  </thead>\n",
       "  <tbody>\n",
       "    <tr>\n",
       "      <th>Aberfeldy</th>\n",
       "      <td>0</td>\n",
       "      <td>1</td>\n",
       "      <td>0</td>\n",
       "      <td>0</td>\n",
       "      <td>0</td>\n",
       "      <td>0</td>\n",
       "      <td>0</td>\n",
       "      <td>0</td>\n",
       "      <td>0</td>\n",
       "      <td>0</td>\n",
       "      <td>...</td>\n",
       "      <td>0</td>\n",
       "      <td>0</td>\n",
       "      <td>1</td>\n",
       "      <td>0</td>\n",
       "      <td>0</td>\n",
       "      <td>0</td>\n",
       "      <td>0</td>\n",
       "      <td>0</td>\n",
       "      <td>0</td>\n",
       "      <td>0</td>\n",
       "    </tr>\n",
       "    <tr>\n",
       "      <th>Aberlour</th>\n",
       "      <td>0</td>\n",
       "      <td>0</td>\n",
       "      <td>0</td>\n",
       "      <td>0</td>\n",
       "      <td>0</td>\n",
       "      <td>0</td>\n",
       "      <td>0</td>\n",
       "      <td>0</td>\n",
       "      <td>0</td>\n",
       "      <td>0</td>\n",
       "      <td>...</td>\n",
       "      <td>0</td>\n",
       "      <td>0</td>\n",
       "      <td>0</td>\n",
       "      <td>0</td>\n",
       "      <td>0</td>\n",
       "      <td>0</td>\n",
       "      <td>1</td>\n",
       "      <td>0</td>\n",
       "      <td>0</td>\n",
       "      <td>0</td>\n",
       "    </tr>\n",
       "    <tr>\n",
       "      <th>Ardberg</th>\n",
       "      <td>0</td>\n",
       "      <td>0</td>\n",
       "      <td>0</td>\n",
       "      <td>0</td>\n",
       "      <td>0</td>\n",
       "      <td>0</td>\n",
       "      <td>0</td>\n",
       "      <td>0</td>\n",
       "      <td>0</td>\n",
       "      <td>0</td>\n",
       "      <td>...</td>\n",
       "      <td>0</td>\n",
       "      <td>0</td>\n",
       "      <td>0</td>\n",
       "      <td>0</td>\n",
       "      <td>1</td>\n",
       "      <td>0</td>\n",
       "      <td>0</td>\n",
       "      <td>0</td>\n",
       "      <td>0</td>\n",
       "      <td>0</td>\n",
       "    </tr>\n",
       "    <tr>\n",
       "      <th>Ardmore</th>\n",
       "      <td>0</td>\n",
       "      <td>0</td>\n",
       "      <td>0</td>\n",
       "      <td>0</td>\n",
       "      <td>1</td>\n",
       "      <td>0</td>\n",
       "      <td>0</td>\n",
       "      <td>0</td>\n",
       "      <td>0</td>\n",
       "      <td>0</td>\n",
       "      <td>...</td>\n",
       "      <td>0</td>\n",
       "      <td>0</td>\n",
       "      <td>0</td>\n",
       "      <td>0</td>\n",
       "      <td>0</td>\n",
       "      <td>0</td>\n",
       "      <td>0</td>\n",
       "      <td>0</td>\n",
       "      <td>0</td>\n",
       "      <td>0</td>\n",
       "    </tr>\n",
       "    <tr>\n",
       "      <th>Auchentoshan</th>\n",
       "      <td>0</td>\n",
       "      <td>0</td>\n",
       "      <td>0</td>\n",
       "      <td>0</td>\n",
       "      <td>1</td>\n",
       "      <td>0</td>\n",
       "      <td>0</td>\n",
       "      <td>0</td>\n",
       "      <td>0</td>\n",
       "      <td>0</td>\n",
       "      <td>...</td>\n",
       "      <td>0</td>\n",
       "      <td>0</td>\n",
       "      <td>1</td>\n",
       "      <td>0</td>\n",
       "      <td>0</td>\n",
       "      <td>0</td>\n",
       "      <td>0</td>\n",
       "      <td>0</td>\n",
       "      <td>0</td>\n",
       "      <td>0</td>\n",
       "    </tr>\n",
       "  </tbody>\n",
       "</table>\n",
       "<p>5 rows × 68 columns</p>\n",
       "</div>"
      ],
      "text/plain": [
       "              color_white-wine  color_yellow  color_very-pale  color_pale  \\\n",
       "name                                                                        \n",
       "Aberfeldy                    0             1                0           0   \n",
       "Aberlour                     0             0                0           0   \n",
       "Ardberg                      0             0                0           0   \n",
       "Ardmore                      0             0                0           0   \n",
       "Auchentoshan                 0             0                0           0   \n",
       "\n",
       "              color_pale-gold  color_gold  color_old-gold  color_full-gold  \\\n",
       "name                                                                         \n",
       "Aberfeldy                   0           0               0                0   \n",
       "Aberlour                    0           0               0                0   \n",
       "Ardberg                     0           0               0                0   \n",
       "Ardmore                     1           0               0                0   \n",
       "Auchentoshan                1           0               0                0   \n",
       "\n",
       "              color_bronze  color_pale-amber  ...  finish_smoky  finish_sweet  \\\n",
       "name                                          ...                               \n",
       "Aberfeldy                0                 0  ...             0             0   \n",
       "Aberlour                 0                 0  ...             0             0   \n",
       "Ardberg                  0                 0  ...             0             0   \n",
       "Ardmore                  0                 0  ...             0             0   \n",
       "Auchentoshan             0                 0  ...             0             0   \n",
       "\n",
       "              finish_spicy  finish_oily  finish_salty  finish_aromatic  \\\n",
       "name                                                                     \n",
       "Aberfeldy                1            0             0                0   \n",
       "Aberlour                 0            0             0                0   \n",
       "Ardberg                  0            0             1                0   \n",
       "Ardmore                  0            0             0                0   \n",
       "Auchentoshan             1            0             0                0   \n",
       "\n",
       "              finish_quick  finish_long  finish_very-long  finish_lingering  \n",
       "name                                                                         \n",
       "Aberfeldy                0            0                 0                 0  \n",
       "Aberlour                 1            0                 0                 0  \n",
       "Ardberg                  0            0                 0                 0  \n",
       "Ardmore                  0            0                 0                 0  \n",
       "Auchentoshan             0            0                 0                 0  \n",
       "\n",
       "[5 rows x 68 columns]"
      ]
     },
     "execution_count": 3,
     "metadata": {},
     "output_type": "execute_result"
    }
   ],
   "source": [
    "attributes_df = df.drop(columns=[\"coord_x\", \"coord_y\", \"region\"])\n",
    "attributes_df.head()"
   ]
  },
  {
   "cell_type": "code",
   "execution_count": 62,
   "id": "bd6fd0d2-7921-431d-b90e-0b0bf5ec762f",
   "metadata": {},
   "outputs": [],
   "source": [
    "def get_recommender_df(dists, ids):\n",
    "    similarity_matrix = 1 - distance.squareform(dists)\n",
    "    return pd.DataFrame(similarity_matrix, index=ids, columns=ids)"
   ]
  },
  {
   "cell_type": "code",
   "execution_count": 65,
   "id": "928a167f-dd8d-4e74-bcc5-d23e7fd2a4bd",
   "metadata": {},
   "outputs": [],
   "source": [
    "def recommend(ref, df, topn=5):\n",
    "    start = 1\n",
    "    end = start + topn\n",
    "    return df[ref].sort_values(ascending=False).iloc[start:end].index.tolist()"
   ]
  },
  {
   "cell_type": "markdown",
   "id": "b37f72fc-f7fd-4fbb-9505-a28f5c81022a",
   "metadata": {},
   "source": [
    "## Jaccard"
   ]
  },
  {
   "cell_type": "code",
   "execution_count": 74,
   "id": "8565c8ce-81c9-4155-99ee-9c408df55c9e",
   "metadata": {},
   "outputs": [],
   "source": [
    "dists = distance.pdist(attributes_df.values, \"jaccard\")\n",
    "recomender_df = get_recommender_df(dists, attributes_df.index)"
   ]
  },
  {
   "cell_type": "code",
   "execution_count": 75,
   "id": "5298f844-c4a4-40f9-8b1c-cb4bef6b3e03",
   "metadata": {},
   "outputs": [
    {
     "data": {
      "text/plain": [
       "['Glen Mhor', 'Glen Elgin', 'Lochnagar', 'Oban', 'Linkwood']"
      ]
     },
     "execution_count": 75,
     "metadata": {},
     "output_type": "execute_result"
    }
   ],
   "source": [
    "recommend(\"Tobermory\", df=recomender_df)"
   ]
  },
  {
   "cell_type": "markdown",
   "id": "e8dd324b-c19b-41df-9ea8-09a1f4a36f42",
   "metadata": {},
   "source": [
    "# Jaccard Ponderado"
   ]
  },
  {
   "cell_type": "code",
   "execution_count": 76,
   "id": "dc2cd33d-8341-449c-834c-775158e806c1",
   "metadata": {},
   "outputs": [],
   "source": [
    "def extract_cols_groups(columns):\n",
    "\n",
    "    cols_groups = []\n",
    "\n",
    "    for col in columns:\n",
    "        start = col.split(\"_\")[0]\n",
    "        if start not in cols_groups:\n",
    "            cols_groups.append(start)\n",
    "\n",
    "    return cols_groups"
   ]
  },
  {
   "cell_type": "code",
   "execution_count": 85,
   "id": "d740d6ea-9799-48de-9817-a1d7225819b4",
   "metadata": {},
   "outputs": [],
   "source": [
    "def get_weighted_jaccard(df):\n",
    "    dist_list = []\n",
    "    \n",
    "    cols_groups = extract_cols_groups(df.columns)\n",
    "    for col in cols_groups:\n",
    "        select_col = df.columns.str.startswith(col + \"_\")\n",
    "        subset = df.loc(axis=1)[select_col]\n",
    "        subset_dist = distance.pdist(subset, \"jaccard\")\n",
    "        dist_list.append(subset_dist)\n",
    "    \n",
    "    return np.array(dist_list).mean(axis=0)"
   ]
  },
  {
   "cell_type": "code",
   "execution_count": 88,
   "id": "c7391242-5096-47f1-abb3-772b7983e1a0",
   "metadata": {},
   "outputs": [],
   "source": [
    "wg_dists = get_weighted_jaccard(attributes_df)\n",
    "wg_recomender_df = get_recommender_df(wg_dists, attributes_df.index)"
   ]
  },
  {
   "cell_type": "code",
   "execution_count": 89,
   "id": "4e5277b9-4283-4ecc-9498-9decbc18b9dc",
   "metadata": {},
   "outputs": [
    {
     "data": {
      "text/plain": [
       "['Glen Elgin', 'Tomatin', 'Lochnagar', 'Linkwood', 'Glenlochy']"
      ]
     },
     "execution_count": 89,
     "metadata": {},
     "output_type": "execute_result"
    }
   ],
   "source": [
    "recommend(\"Tobermory\", df=wg_recomender_df)"
   ]
  },
  {
   "cell_type": "markdown",
   "id": "c7e9b3d8-4101-43e4-981c-d812d07bef89",
   "metadata": {},
   "source": [
    "## Comparing Estimates"
   ]
  },
  {
   "cell_type": "code",
   "execution_count": 93,
   "id": "94d9aa90-f54c-453c-8b45-72feb2a70a6f",
   "metadata": {},
   "outputs": [
    {
     "data": {
      "text/plain": [
       "0.03547646196485005"
      ]
     },
     "execution_count": 93,
     "metadata": {},
     "output_type": "execute_result"
    }
   ],
   "source": [
    "np.mean(np.absolute(wg_dists - dists))"
   ]
  },
  {
   "cell_type": "code",
   "execution_count": 100,
   "id": "b4bc2ffd-9485-4168-b978-e0263e89cf4c",
   "metadata": {},
   "outputs": [],
   "source": [
    "def pairwise_jaccard(x, y):\n",
    "    intersection = x.intersection(y)\n",
    "    union = x.union(y)\n",
    "    return len(intersection) / len(union)"
   ]
  },
  {
   "cell_type": "code",
   "execution_count": 110,
   "id": "5375a8e2-c885-48f4-95f3-52b1282df876",
   "metadata": {},
   "outputs": [],
   "source": [
    "def compare_recomendations(topn_reco, df=recomender_df, wg_df=wg_recomender_df):\n",
    "    similarities = list()\n",
    "    \n",
    "    col_list = df.columns\n",
    "    \n",
    "    for col in col_list:\n",
    "        wg_recomendations_set = set(recommend(col, df=wg_recomender_df, topn=topn_reco))\n",
    "        recomentations_set = set(recommend(col, df=recomender_df, topn=topn_reco))\n",
    "        jaccard_sim = pairwise_jaccard(wg_recomendations_set, recomentations_set)\n",
    "        similarities.append(jaccard_sim)\n",
    "        \n",
    "    return np.mean(similarities)"
   ]
  },
  {
   "cell_type": "code",
   "execution_count": 117,
   "id": "9ee283ed-44bd-490c-879a-b7bd60e32967",
   "metadata": {},
   "outputs": [
    {
     "data": {
      "image/png": "[encoded data removed]",
      "text/plain": [
       "<Figure size 864x504 with 1 Axes>"
      ]
     },
     "metadata": {
      "needs_background": "light"
     },
     "output_type": "display_data"
    }
   ],
   "source": [
    "topn_range = range(1, 31)\n",
    "similarities = [compare_recomendations(topn) for topn in topn_range]\n",
    "pd.Series(similarities, index=topn_range).plot(figsize=[12, 7])\n",
    "plt.ylabel(\"Similaridade Média\")\n",
    "plt.xlabel(\"Quantidade de Recomendações\")\n",
    "plt.show()"
   ]
  },
  {
   "cell_type": "markdown",
   "id": "6595c477-72d0-415a-bad8-aeb8a604cc93",
   "metadata": {},
   "source": [
    "# Ranking"
   ]
  },
  {
   "cell_type": "code",
   "execution_count": 123,
   "id": "4132c027-9913-4d31-8e9b-e79dda482ae7",
   "metadata": {},
   "outputs": [],
   "source": [
    "def count_recomendations(topn=5, df=wg_recomender_df):\n",
    "    recomendation_list = list()\n",
    "    for col in df.columns:\n",
    "        recomendations = recommend(col, df=df, topn=topn)\n",
    "        recomendation_list += recomendations\n",
    "    whiskey, counts = np.unique(recomendation_list, return_counts=True)\n",
    "    count_dict = dict(zip(whiskey, counts))\n",
    "    return pd.Series(count_dict).sort_values()"
   ]
  },
  {
   "cell_type": "code",
   "execution_count": 132,
   "id": "8b0fd61e-d7f8-4726-8e1f-aa6448c309a8",
   "metadata": {},
   "outputs": [
    {
     "data": {
      "image/png": "[encoded data removed]",
      "text/plain": [
       "<Figure size 720x576 with 1 Axes>"
      ]
     },
     "metadata": {
      "needs_background": "light"
     },
     "output_type": "display_data"
    }
   ],
   "source": [
    "topn = 15\n",
    "count_recomendations().tail(topn).plot(kind=\"barh\", figsize=[10, 8])\n",
    "plt.xlabel(\"Quantidade de Recomendações\")\n",
    "plt.ylabel(\"Whiskys\")\n",
    "plt.title(f\"Top-{topn} Whiskeys mais recomendados\")\n",
    "plt.show()"
   ]
  },
  {
   "cell_type": "markdown",
   "id": "9334ac33-ab78-4ea7-b419-ec1bcba6a486",
   "metadata": {},
   "source": [
    "# Recomendação Baseada em Atributos"
   ]
  },
  {
   "cell_type": "code",
   "execution_count": 151,
   "id": "5c00b071-0856-47fc-a320-b1078854b679",
   "metadata": {},
   "outputs": [],
   "source": [
    "def transform_to_attr_dict(attr_list):\n",
    "    attr_dict = dict()\n",
    "    for attr in attr_list:\n",
    "        attr_type, propert = attr.split(\"_\")\n",
    "        if attr_type in attr_dict:\n",
    "            attr_dict[attr_type].append(propert)\n",
    "        else:\n",
    "            attr_dict[attr_type] = [propert]\n",
    "    \n",
    "    return attr_dict"
   ]
  },
  {
   "cell_type": "code",
   "execution_count": 152,
   "id": "a847fc77-192a-44c6-9153-16a573bbb0df",
   "metadata": {},
   "outputs": [
    {
     "data": {
      "text/plain": [
       "{'color': ['pale-gold'],\n",
       " 'nose': ['aromatic', 'peaty', 'sweet', 'fruity', 'grassy'],\n",
       " 'body': ['soft', 'medium', 'smooth', 'light'],\n",
       " 'palate': ['dry', 'sweet'],\n",
       " 'finish': ['long']}"
      ]
     },
     "execution_count": 152,
     "metadata": {},
     "output_type": "execute_result"
    }
   ],
   "source": [
    "def get_attributes(whisky, df=attributes_df):\n",
    "    select_attr = df.loc[whisky].values.astype(\"bool\")\n",
    "    attr_list = df.loc[whisky].index[select_attr].tolist()\n",
    "    attr_dict = transform_to_attr_dict(attr_list)\n",
    "    return attr_dict\n",
    "\n",
    "get_attributes(\"Balmenach\")"
   ]
  },
  {
   "cell_type": "code",
   "execution_count": 159,
   "id": "14bf2281-d89b-47b5-a9d3-00783d47f477",
   "metadata": {},
   "outputs": [
    {
     "name": "stdout",
     "output_type": "stream",
     "text": [
      "Opções possíveis\n",
      "\n",
      "color:\n",
      "white-wine; yellow; very-pale; pale; pale-gold; gold; old-gold; full-gold; bronze; pale-amber; amber; full-amber; red; fino-sherry\n",
      "####################################################################################################\n",
      "nose:\n",
      "aromatic; peaty; sweet; light; fresh; dry; fruity; grassy; salty; sherry; spicy; rich\n",
      "####################################################################################################\n",
      "body:\n",
      "soft; medium; full; round; smooth; light; firm; oily\n",
      "####################################################################################################\n",
      "palate:\n",
      "full; dry; sherry; big; light; smooth; clean; fruity; grassy; smoky; sweet; spicy; oily; salty; aromatic\n",
      "####################################################################################################\n",
      "finish:\n",
      "full; dry; warm; big; light; smooth; clean; fruity; grassy; smoky; sweet; spicy; oily; salty; aromatic; quick; long; very-long; lingering\n",
      "####################################################################################################\n"
     ]
    }
   ],
   "source": [
    "possible_options = transform_to_attr_dict(attributes_df.columns)\n",
    "print(\"Opções possíveis\")\n",
    "print()\n",
    "for attr_type, prop_list in possible_options.items():\n",
    "    print(attr_type + \":\")\n",
    "    print(\"; \".join(prop_list))\n",
    "    print(\"#\"*100)"
   ]
  },
  {
   "cell_type": "code",
   "execution_count": 160,
   "id": "3d0069e5-28e7-45b3-9857-151e96e17249",
   "metadata": {},
   "outputs": [],
   "source": [
    "def get_jaccard(x, y):\n",
    "    x_set = set(x)\n",
    "    y_set = set(y)\n",
    "    \n",
    "    intersection = x_set.intersection(y_set)\n",
    "    union = x_set.union(y_set)\n",
    "    \n",
    "    return len(intersection) / len(union)    "
   ]
  },
  {
   "cell_type": "code",
   "execution_count": 161,
   "id": "ac298cd3-bf8b-43fe-ae56-8196315f8762",
   "metadata": {},
   "outputs": [],
   "source": [
    "def get_pairwise_wg_jaccard(x_attr, y_attr, opts):\n",
    "    jaccard_list = []\n",
    "    for option in opts:\n",
    "        if option in x_attr and option in y_attr:\n",
    "            x = x_attr[option]\n",
    "            y = y_attr[option]\n",
    "            jaccard_list.append(get_jaccard(x, y))\n",
    "        else:\n",
    "            jaccard_list.append(0)\n",
    "    return np.mean(jaccard_list)"
   ]
  },
  {
   "cell_type": "code",
   "execution_count": 171,
   "id": "1c3b3cdc-5838-4a29-8eb9-9d0dff714fd4",
   "metadata": {},
   "outputs": [],
   "source": [
    "def get_recomendation_on_attr(attr, topn=5, df=attributes_df, opts=possible_options):\n",
    "    jaccard_list = []\n",
    "    for whysky in df.index:\n",
    "        y_attr = get_attributes(whysky, df=df)\n",
    "        jaccard = get_pairwise_wg_jaccard(attr, y_attr, opts)\n",
    "        jaccard_list.append(jaccard)\n",
    "        \n",
    "    return pd.Series(jaccard_list, index=df.index).sort_values(ascending=False).head(topn)"
   ]
  },
  {
   "cell_type": "code",
   "execution_count": 182,
   "id": "dd697659-2b27-4103-b9e6-4da4c67b4568",
   "metadata": {},
   "outputs": [
    {
     "data": {
      "text/plain": [
       "name\n",
       "Glenturret      0.466667\n",
       "Tomintoul       0.433333\n",
       "Balmenach       0.340000\n",
       "Glentauchers    0.333333\n",
       "Glenfiddich     0.290000\n",
       "dtype: float64"
      ]
     },
     "execution_count": 182,
     "metadata": {},
     "output_type": "execute_result"
    }
   ],
   "source": [
    "attr = {\"color\": [\"white-wine\"],\n",
    "        \"nose\": [\"aromatic\"],\n",
    "        \"body\": [\"soft\", \"smooth\"],\n",
    "        \"finish\": [\"long\"]}\n",
    "\n",
    "recomends = get_recomendation_on_attr(attr)\n",
    "recomends"
   ]
  },
  {
   "cell_type": "code",
   "execution_count": 183,
   "id": "2e0c66d2-5cb8-4363-a22b-4f0adf88f67f",
   "metadata": {},
   "outputs": [
    {
     "name": "stdout",
     "output_type": "stream",
     "text": [
      "Glenturret\n",
      "{'color': ['white-wine'], 'nose': ['aromatic', 'sweet'], 'body': ['soft', 'firm'], 'palate': ['big', 'smoky'], 'finish': ['fruity', 'long']}\n",
      "\n",
      "Tomintoul\n",
      "{'color': ['full-gold'], 'nose': ['aromatic', 'grassy'], 'body': ['soft', 'smooth', 'light'], 'palate': ['grassy', 'sweet'], 'finish': ['long']}\n",
      "\n",
      "Balmenach\n",
      "{'color': ['pale-gold'], 'nose': ['aromatic', 'peaty', 'sweet', 'fruity', 'grassy'], 'body': ['soft', 'medium', 'smooth', 'light'], 'palate': ['dry', 'sweet'], 'finish': ['long']}\n",
      "\n",
      "Glentauchers\n",
      "{'color': ['white-wine'], 'nose': ['sweet', 'light', 'dry', 'fruity', 'salty', 'spicy'], 'body': ['smooth', 'light'], 'palate': ['dry', 'big', 'light', 'sweet'], 'finish': ['dry', 'warm', 'long']}\n",
      "\n",
      "Glenfiddich\n",
      "{'color': ['white-wine'], 'nose': ['aromatic', 'sweet', 'light', 'fresh', 'fruity'], 'body': ['smooth', 'light', 'firm'], 'palate': ['dry', 'fruity', 'smoky', 'sweet'], 'finish': ['dry', 'smoky']}\n",
      "\n"
     ]
    }
   ],
   "source": [
    "for whisky in recomends.index:\n",
    "    print(whisky)\n",
    "    print(get_attributes(whisky))\n",
    "    print()"
   ]
  }
 ],
 "metadata": {
  "kernelspec": {
   "display_name": "Python 3 (ipykernel)",
   "language": "python",
   "name": "python3"
  },
  "language_info": {
   "codemirror_mode": {
    "name": "ipython",
    "version": 3
   },
   "file_extension": ".py",
   "mimetype": "text/x-python",
   "name": "python",
   "nbconvert_exporter": "python",
   "pygments_lexer": "ipython3",
   "version": "3.9.6"
  }
 },
 "nbformat": 4,
 "nbformat_minor": 5
}
